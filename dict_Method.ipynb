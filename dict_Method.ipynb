{
 "cells": [
  {
   "cell_type": "markdown",
   "id": "7eb68a85",
   "metadata": {},
   "source": [
    "### get"
   ]
  },
  {
   "cell_type": "code",
   "execution_count": 1,
   "id": "3bbdb009",
   "metadata": {},
   "outputs": [
    {
     "name": "stdout",
     "output_type": "stream",
     "text": [
      "Ravi\n",
      "20\n",
      "None\n",
      "N/A\n",
      "Ravi\n"
     ]
    }
   ],
   "source": [
    "student = {\"name\": \"Ravi\", \"age\": 20}\n",
    "print(student.get(\"name\"))     \n",
    "print(student.get(\"age\"))      \n",
    "print(student.get(\"grade\"))   \n",
    "print(student.get(\"grade\", \"N/A\"))   \n",
    "print(student.get(\"name\", \"Unknown\"))\n"
   ]
  },
  {
   "cell_type": "markdown",
   "id": "a5b0f799",
   "metadata": {},
   "source": [
    "### keys"
   ]
  },
  {
   "cell_type": "code",
   "execution_count": 2,
   "id": "8ab146c3",
   "metadata": {},
   "outputs": [
    {
     "name": "stdout",
     "output_type": "stream",
     "text": [
      "['a', 'b']\n",
      "dict_keys(['name', 'age'])\n",
      "[]\n",
      "p\n",
      "q\n",
      "r\n",
      "True\n"
     ]
    }
   ],
   "source": [
    "d = {\"a\": 1, \"b\": 2}\n",
    "print(list(d.keys()))   \n",
    "\n",
    "x = {\"name\": \"A\", \"age\": 25}\n",
    "print(x.keys())        \n",
    "\n",
    "y = {}\n",
    "print(list(y.keys()))   \n",
    "\n",
    "z = {\"p\": 10, \"q\": 20, \"r\": 30}\n",
    "for k in z.keys():\n",
    "    print(k)\n",
    "\n",
    "data = {\"x\": 1, \"y\": 2}\n",
    "print(\"y\" in data.keys())   \n"
   ]
  },
  {
   "cell_type": "markdown",
   "id": "7a01abdd",
   "metadata": {},
   "source": [
    "### values"
   ]
  },
  {
   "cell_type": "code",
   "execution_count": 3,
   "id": "63b16de3",
   "metadata": {},
   "outputs": [
    {
     "name": "stdout",
     "output_type": "stream",
     "text": [
      "[1, 2]\n",
      "dict_values(['A', 25])\n",
      "[]\n",
      "10\n",
      "20\n",
      "300\n"
     ]
    }
   ],
   "source": [
    "d = {\"a\": 1, \"b\": 2}\n",
    "print(list(d.values()))   \n",
    "x = {\"name\": \"A\", \"age\": 25}\n",
    "print(x.values())         \n",
    "y = {}\n",
    "print(list(y.values()))   \n",
    "z = {\"p\": 10, \"q\": 20}\n",
    "for v in z.values():\n",
    "    print(v)\n",
    "data = {\"x\": 100, \"y\": 200}\n",
    "print(sum(data.values()))  \n"
   ]
  },
  {
   "cell_type": "markdown",
   "id": "96fcf9c6",
   "metadata": {},
   "source": [
    "### items"
   ]
  },
  {
   "cell_type": "code",
   "execution_count": 4,
   "id": "77210184",
   "metadata": {},
   "outputs": [
    {
     "name": "stdout",
     "output_type": "stream",
     "text": [
      "[('a', 1), ('b', 2)]\n",
      "name A\n",
      "age 25\n",
      "[]\n",
      "('p', 10)\n",
      "2\n"
     ]
    }
   ],
   "source": [
    "d = {\"a\": 1, \"b\": 2}\n",
    "print(list(d.items()))   \n",
    "x = {\"name\": \"A\", \"age\": 25}\n",
    "for k, v in x.items():\n",
    "    print(k, v)\n",
    "y = {}\n",
    "print(list(y.items()))   \n",
    "z = {\"p\": 10, \"q\": 20}\n",
    "pairs = list(z.items())\n",
    "print(pairs[0])          \n",
    "data = {\"x\": 1, \"y\": 2}\n",
    "print(len(data.items()))\n"
   ]
  },
  {
   "cell_type": "markdown",
   "id": "f2a52043",
   "metadata": {},
   "source": [
    "### update"
   ]
  },
  {
   "cell_type": "code",
   "execution_count": 5,
   "id": "c97b6bf8",
   "metadata": {},
   "outputs": [
    {
     "name": "stdout",
     "output_type": "stream",
     "text": [
      "{'a': 1, 'b': 2}\n",
      "{'name': 'A', 'age': 25}\n",
      "{'p': 10, 'q': 20, 'r': 30}\n"
     ]
    }
   ],
   "source": [
    "d = {\"a\": 1}\n",
    "d.update({\"b\": 2})\n",
    "print(d)  \n",
    "x = {\"name\": \"A\"}\n",
    "x.update({\"age\": 25})\n",
    "print(x)   \n",
    "y = {\"p\": 10}\n",
    "y.update(q=20, r=30)\n",
    "print(y)   "
   ]
  }
 ],
 "metadata": {
  "kernelspec": {
   "display_name": "Python 3",
   "language": "python",
   "name": "python3"
  },
  "language_info": {
   "codemirror_mode": {
    "name": "ipython",
    "version": 3
   },
   "file_extension": ".py",
   "mimetype": "text/x-python",
   "name": "python",
   "nbconvert_exporter": "python",
   "pygments_lexer": "ipython3",
   "version": "3.12.1"
  }
 },
 "nbformat": 4,
 "nbformat_minor": 5
}
