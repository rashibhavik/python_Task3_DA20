{
 "cells": [
  {
   "cell_type": "markdown",
   "id": "85e998e9",
   "metadata": {},
   "source": [
    "### append\n"
   ]
  },
  {
   "cell_type": "code",
   "execution_count": null,
   "id": "b80db3c6",
   "metadata": {},
   "outputs": [
    {
     "name": "stdout",
     "output_type": "stream",
     "text": [
      "['apple', 'banana', 'mango']\n",
      "[1, 2, 3]\n",
      "['red']\n",
      "['a', 'b', 'c']\n",
      "[0, 1, 2, 3, 4]\n"
     ]
    }
   ],
   "source": [
    "fruits = [\"apple\", \"banana\"]\n",
    "fruits.append(\"mango\")\n",
    "print(fruits)   \n",
    "\n",
    "nums = [1, 2]\n",
    "nums.append(3)\n",
    "print(nums)     \n",
    "\n",
    "colors = []\n",
    "colors.append(\"red\")\n",
    "print(colors)   \n",
    "\n",
    "letters = [\"a\"]\n",
    "letters.append(\"b\")\n",
    "letters.append(\"c\")\n",
    "print(letters)  \n",
    "\n",
    "x = []\n",
    "for i in range(5):\n",
    "    x.append(i)\n",
    "print(x)        \n"
   ]
  },
  {
   "cell_type": "markdown",
   "id": "4473b9a9",
   "metadata": {},
   "source": [
    "### extend"
   ]
  },
  {
   "cell_type": "code",
   "execution_count": null,
   "id": "7f8b7f4e",
   "metadata": {},
   "outputs": [],
   "source": [
    "a = [1, 2]\n",
    "a.extend([3, 4])\n",
    "print(a)   \n",
    "\n",
    "b = [\"cat\"]\n",
    "b.extend([\"dog\", \"rat\"])\n",
    "print(b)   \n",
    "\n",
    "c = []\n",
    "c.extend(range(3))\n",
    "print(c)   \n",
    "\n",
    "d = [\"x\"]\n",
    "d.extend(\"yz\")\n",
    "print(d)   \n",
    "\n",
    "e = [10]\n",
    "f = [20, 30]\n",
    "e.extend(f)\n",
    "print(e)   \n"
   ]
  },
  {
   "cell_type": "markdown",
   "id": "833f9dd7",
   "metadata": {},
   "source": [
    "### insert"
   ]
  },
  {
   "cell_type": "code",
   "execution_count": 2,
   "id": "963b1868",
   "metadata": {},
   "outputs": [
    {
     "name": "stdout",
     "output_type": "stream",
     "text": [
      "[1, 2, 3, 4]\n",
      "['a', 'b', 'c']\n",
      "['green', 'red', 'blue']\n",
      "[5, 6, 7]\n",
      "['first']\n"
     ]
    }
   ],
   "source": [
    "nums = [1, 2, 4]\n",
    "nums.insert(2, 3)\n",
    "print(nums)   \n",
    "\n",
    "letters = [\"a\", \"c\"]\n",
    "letters.insert(1, \"b\")\n",
    "print(letters)   \n",
    "\n",
    "colors = [\"red\", \"blue\"]\n",
    "colors.insert(0, \"green\")\n",
    "print(colors)   \n",
    "\n",
    "x = [5, 6]\n",
    "x.insert(len(x), 7)\n",
    "print(x)   \n",
    "\n",
    "y = []\n",
    "y.insert(0, \"first\")\n",
    "print(y)   \n"
   ]
  },
  {
   "cell_type": "markdown",
   "id": "5a155bf3",
   "metadata": {},
   "source": [
    "### remove"
   ]
  },
  {
   "cell_type": "code",
   "execution_count": 3,
   "id": "f9e6e47f",
   "metadata": {},
   "outputs": [
    {
     "name": "stdout",
     "output_type": "stream",
     "text": [
      "[1, 3]\n",
      "['a', 'c', 'b']\n",
      "['banana']\n",
      "['blue', 'red']\n",
      "[10, 30, 20]\n"
     ]
    }
   ],
   "source": [
    "nums = [1, 2, 3]\n",
    "nums.remove(2)\n",
    "print(nums)  \n",
    "\n",
    "letters = [\"a\", \"b\", \"c\", \"b\"]\n",
    "letters.remove(\"b\")\n",
    "print(letters)   \n",
    "\n",
    "fruits = [\"apple\", \"banana\"]\n",
    "fruits.remove(\"apple\")\n",
    "print(fruits)  \n",
    "\n",
    "colors = [\"red\", \"blue\", \"red\"]\n",
    "colors.remove(\"red\")\n",
    "print(colors)  \n",
    "\n",
    "x = [10, 20, 30, 20]\n",
    "x.remove(20)\n",
    "print(x)   \n"
   ]
  },
  {
   "cell_type": "markdown",
   "id": "fb0851ff",
   "metadata": {},
   "source": [
    "### pop"
   ]
  },
  {
   "cell_type": "code",
   "execution_count": 4,
   "id": "27253c94",
   "metadata": {},
   "outputs": [
    {
     "name": "stdout",
     "output_type": "stream",
     "text": [
      "3\n",
      "b\n",
      "['a', 'c']\n",
      "['banana']\n",
      "[10, 20, 30]\n",
      "[]\n"
     ]
    }
   ],
   "source": [
    "nums = [1, 2, 3]\n",
    "print(nums.pop())   \n",
    "\n",
    "letters = [\"a\", \"b\", \"c\"]\n",
    "print(letters.pop(1))  \n",
    "print(letters)         \n",
    "\n",
    "fruits = [\"apple\", \"banana\"]\n",
    "fruits.pop(0)\n",
    "print(fruits)   \n",
    "\n",
    "x = [10, 20, 30, 40]\n",
    "x.pop(-1)\n",
    "print(x)  \n",
    "\n",
    "y = [1]\n",
    "y.pop()\n",
    "print(y)   \n"
   ]
  }
 ],
 "metadata": {
  "kernelspec": {
   "display_name": "Python 3",
   "language": "python",
   "name": "python3"
  },
  "language_info": {
   "codemirror_mode": {
    "name": "ipython",
    "version": 3
   },
   "file_extension": ".py",
   "mimetype": "text/x-python",
   "name": "python",
   "nbconvert_exporter": "python",
   "pygments_lexer": "ipython3",
   "version": "3.12.1"
  }
 },
 "nbformat": 4,
 "nbformat_minor": 5
}
